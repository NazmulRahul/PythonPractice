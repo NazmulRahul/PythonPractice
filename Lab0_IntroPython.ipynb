{
  "cells": [
    {
      "cell_type": "markdown",
      "metadata": {},
      "source": [
        "### CS 109A/STAT 121A/AC 209A /CSCI E-109A\n",
        "\n",
        "# Lab 0: Introduction to Python\n",
        "\n",
        "**Harvard University**<br>\n",
        "**Fall 2017**<br>\n",
        "**Instructors: Pavlos Protopapas, Kevin Rader, Rahul Dave, Margo Levine**\n",
        "\n",
        "\n",
        "---\n"
      ]
    },
    {
      "cell_type": "code",
      "execution_count": null,
      "metadata": {},
      "outputs": [],
      "source": []
    },
    {
      "cell_type": "markdown",
      "metadata": {},
      "source": [
        "## Programming Expectations\n",
        "All assignments for this class will use Python and the browser-based iPython notebook format you are currently viewing. Python experience is not a prerequisite for this course, as long as you are comfortable learning on your own as needed. While we strive to make the programming component of this course straightforward, we won't devote much time to teaching programming or Python syntax. \n",
        "\n",
        "Note though that the **programming at the level of CS 50 is a prerequisite** for this course.   If you have concerns about the prerequisite, please come speak with any of the instructors. \n",
        "\n",
        " We will refer to the Python 3 [documentation](https://docs.python.org/3/) in this lab and throughout the course.  There are also many introductory tutorials to help build programming skills, which we are listed in the last section of this lab."
      ]
    },
    {
      "cell_type": "markdown",
      "metadata": {},
      "source": [
        "## Table of Contents \n",
        "<ol start=\"0\">\n",
        "<li> Learning Goals </li>\n",
        "<li> Getting Started</li>\n",
        "<li> Lists </li>\n",
        "<li> Strings and Listiness </li>\n",
        "<li> Dictionaries </li>\n",
        "<li> Functions </li>\n",
        "<li> Text Analysis of Hamlet </li>\n",
        "<li> References </li>\n",
        "</ol>"
      ]
    },
    {
      "cell_type": "markdown",
      "metadata": {},
      "source": [
        "## Part 0:  Learning Goals \n",
        "This introductory lab is a condensed tutorial in Python programming.  By the end of this lab, you will feel more comfortable:\n",
        "\n",
        "- Writing short Python code using functions, loops, arrays, dictionaries, strings,  if statements.\n",
        "\n",
        "- Manipulating Python lists and recognizing the listy properties of other Python containers.\n",
        "\n",
        "- Learning and reading Python documentation.  \n",
        "\n",
        "*Lab 0 relates to material in lecture 0,1,2,3 and homework 0.*"
      ]
    },
    {
      "cell_type": "markdown",
      "metadata": {},
      "source": [
        "## Part 1: Getting Started"
      ]
    },
    {
      "cell_type": "markdown",
      "metadata": {},
      "source": [
        "### Importing modules\n",
        "All notebooks should begin with code that imports *modules*, collections of built-in, commonly-used Python functions.  Below we import the Numpy module, a fast numerical programming library for scientific computing.  Future labs will require additional modules, which we'll import with the same `import MODULE_NAME as MODULE_NICKNAME` syntax."
      ]
    },
    {
      "cell_type": "code",
      "execution_count": 2,
      "metadata": {
        "collapsed": true
      },
      "outputs": [],
      "source": [
        "import numpy as np #imports a fast numerical programming library"
      ]
    },
    {
      "cell_type": "markdown",
      "metadata": {},
      "source": [
        "Now that Numpy has been imported, we can access some useful functions.  For example, we can use `mean` to calculate the mean of a set of numbers."
      ]
    },
    {
      "cell_type": "code",
      "execution_count": 3,
      "metadata": {},
      "outputs": [
        {
          "data": {
            "text/plain": [
              "2.1666666666666665"
            ]
          },
          "execution_count": 3,
          "metadata": {},
          "output_type": "execute_result"
        }
      ],
      "source": [
        "np.mean([1.2, 2, 3.3])"
      ]
    },
    {
      "cell_type": "markdown",
      "metadata": {},
      "source": [
        "to calculate the mean of 1.2, 2, and 3.3."
      ]
    },
    {
      "cell_type": "markdown",
      "metadata": {},
      "source": [
        "The code above is not particularly efficient, and efficiency will be important for you when dealing with large data sets. In Lab 1 we will see more efficient options."
      ]
    },
    {
      "cell_type": "markdown",
      "metadata": {},
      "source": [
        "### Calculations and variables"
      ]
    },
    {
      "cell_type": "markdown",
      "metadata": {},
      "source": [
        "At the most basic level we can use Python as a simple calculator."
      ]
    },
    {
      "cell_type": "code",
      "execution_count": 3,
      "metadata": {},
      "outputs": [],
      "source": [
        "1 + 2"
      ]
    },
    {
      "cell_type": "markdown",
      "metadata": {},
      "source": [
        "Notice integer division (//) and floating-point error below!"
      ]
    },
    {
      "cell_type": "code",
      "execution_count": 4,
      "metadata": {},
      "outputs": [
        {
          "data": {
            "text/plain": [
              "(0.5, 0, 0.5, 9.600000000000001)"
            ]
          },
          "execution_count": 4,
          "metadata": {},
          "output_type": "execute_result"
        }
      ],
      "source": [
        "1/2, 1//2, 1.0/2.0, 3*3.2"
      ]
    },
    {
      "cell_type": "markdown",
      "metadata": {},
      "source": [
        "The last line in a cell is returned as the output value, as above.  For cells with multiple lines of results, we can display results using ``print``, as can be seen below."
      ]
    },
    {
      "cell_type": "code",
      "execution_count": 7,
      "metadata": {},
      "outputs": [
        {
          "name": "stdout",
          "output_type": "stream",
          "text": [
            "14.0 \n",
            " 9 7\n"
          ]
        },
        {
          "data": {
            "text/plain": [
              "1.6666666666666667"
            ]
          },
          "execution_count": 7,
          "metadata": {},
          "output_type": "execute_result"
        }
      ],
      "source": [
        "print(1,end='')\n",
        "print(1 + 3.0, \"\\n\", 9, 7)\n",
        "5/3"
      ]
    },
    {
      "cell_type": "markdown",
      "metadata": {},
      "source": [
        "We can store integer or floating point values as variables.  The other basic Python data types -- booleans, strings, lists -- can also be stored as variables. "
      ]
    },
    {
      "cell_type": "code",
      "execution_count": 6,
      "metadata": {
        "collapsed": true
      },
      "outputs": [],
      "source": [
        "a = 1\n",
        "b = 2.0"
      ]
    },
    {
      "cell_type": "markdown",
      "metadata": {},
      "source": [
        "Here is the storing of a list:"
      ]
    },
    {
      "cell_type": "code",
      "execution_count": 7,
      "metadata": {
        "collapsed": true
      },
      "outputs": [],
      "source": [
        "a = [1, 2, 3]"
      ]
    },
    {
      "cell_type": "markdown",
      "metadata": {},
      "source": [
        "Think of a variable as a label for a value, not a box in which you put the value\n",
        "\n",
        "![](images/sticksnotboxes.png)\n",
        "\n",
        "(image taken from Fluent Python by Luciano Ramalho)"
      ]
    },
    {
      "cell_type": "code",
      "execution_count": 8,
      "metadata": {},
      "outputs": [],
      "source": [
        "b = a\n",
        "b"
      ]
    },
    {
      "cell_type": "markdown",
      "metadata": {},
      "source": [
        "This DOES NOT create a new copy of `a`. It merely puts a new label on the memory at a, as can be seen by the following code:"
      ]
    },
    {
      "cell_type": "code",
      "execution_count": 9,
      "metadata": {},
      "outputs": [],
      "source": [
        "print(\"a\", a)\n",
        "print(\"b\", b)\n",
        "a[1] = 7\n",
        "print(\"a after change\", a)\n",
        "print(\"b after change\", b)"
      ]
    },
    {
      "cell_type": "markdown",
      "metadata": {},
      "source": [
        "Multiple items on one line in the interface are returned as a *tuple*, an immutable sequence of Python objects."
      ]
    },
    {
      "cell_type": "code",
      "execution_count": 10,
      "metadata": {},
      "outputs": [
        {
          "name": "stdout",
          "output_type": "stream",
          "text": [
            "['_Processor', '_WIN32_CLIENT_RELEASES', '_WIN32_SERVER_RELEASES', '__builtins__', '__cached__', '__copyright__', '__doc__', '__file__', '__loader__', '__name__', '__package__', '__spec__', '__version__', '_comparable_version', '_default_architecture', '_follow_symlinks', '_get_machine_win32', '_java_getprop', '_mac_ver_xml', '_node', '_norm_version', '_os_release_cache', '_os_release_candidates', '_parse_os_release', '_platform', '_platform_cache', '_sys_version', '_sys_version_cache', '_syscmd_file', '_syscmd_ver', '_uname_cache', '_unknown_as_blank', '_ver_stages', '_win32_ver', '_wmi', '_wmi_query', 'architecture', 'collections', 'freedesktop_os_release', 'functools', 'itertools', 'java_ver', 'libc_ver', 'mac_ver', 'machine', 'node', 'os', 'platform', 'processor', 'python_branch', 'python_build', 'python_compiler', 'python_implementation', 'python_revision', 'python_version', 'python_version_tuple', 're', 'release', 'sys', 'system', 'system_alias', 'uname', 'uname_result', 'version', 'win32_edition', 'win32_is_iot', 'win32_ver']\n"
          ]
        }
      ],
      "source": [
        "import platform\n",
        "\n",
        "x = dir(platform)\n",
        "print(x)\n",
        "           "
      ]
    },
    {
      "cell_type": "markdown",
      "metadata": {},
      "source": [
        "We can obtain the type of a variable, and use boolean comparisons to test these types. "
      ]
    },
    {
      "cell_type": "code",
      "execution_count": 1,
      "metadata": {},
      "outputs": [
        {
          "ename": "NameError",
          "evalue": "name 'a' is not defined",
          "output_type": "error",
          "traceback": [
            "\u001b[1;31m---------------------------------------------------------------------------\u001b[0m",
            "\u001b[1;31mNameError\u001b[0m                                 Traceback (most recent call last)",
            "Cell \u001b[1;32mIn[1], line 1\u001b[0m\n\u001b[1;32m----> 1\u001b[0m \u001b[38;5;28mtype\u001b[39m(\u001b[43ma\u001b[49m) \u001b[38;5;241m==\u001b[39m \u001b[38;5;28mfloat\u001b[39m\n",
            "\u001b[1;31mNameError\u001b[0m: name 'a' is not defined"
          ]
        }
      ],
      "source": [
        "type(a) == float"
      ]
    },
    {
      "cell_type": "code",
      "execution_count": 12,
      "metadata": {},
      "outputs": [],
      "source": [
        "type(a) == int"
      ]
    },
    {
      "cell_type": "markdown",
      "metadata": {},
      "source": [
        "For reference, below are common arithmetic and comparison operations.\n",
        "\n",
        "<img src=\"images/ops1_v2.png\" alt=\"Drawing\" style=\"width: 600px;\"/>\n",
        "\n",
        "<img src=\"images/ops2_v2.png\" alt=\"Drawing\" style=\"width: 650px;\"/>"
      ]
    },
    {
      "cell_type": "markdown",
      "metadata": {},
      "source": [
        ">**EXERCISE**:  Create a tuple called `tup` with the following seven objects:\n",
        "\n",
        "> - The first element is an integer of your choice\n",
        "> - The second element is a float of your choice  \n",
        "> - The third element is the sum of the first two elements\n",
        "> - The fourth element is the difference of the first two elements\n",
        "> - The fifth element is first element divided by the second element\n",
        "\n",
        "> Display the output of `tup`.  What is the type of the variable `tup`? What happens if you try and chage an item in the tuple? "
      ]
    },
    {
      "cell_type": "code",
      "execution_count": 13,
      "metadata": {},
      "outputs": [],
      "source": [
        "# your code here\n"
      ]
    },
    {
      "cell_type": "markdown",
      "metadata": {},
      "source": [
        "## Part 2: Lists\n",
        "\n",
        "Much of Python is based on the notion of a list.  In Python, a list is a sequence of items separated by commas, all within square brackets.  The items can be integers, floating points, or another type.  Unlike in C arrays, items in a Python list can be different types, so Python lists are more versatile than traditional arrays in C or in other languages. \n",
        "\n",
        "Let's start out by creating a few lists.  "
      ]
    },
    {
      "cell_type": "code",
      "execution_count": 2,
      "metadata": {},
      "outputs": [
        {
          "name": "stdout",
          "output_type": "stream",
          "text": [
            "[]\n",
            "[1, 2, 3, 4, 5, 6, 7, 8, 9, 10]\n",
            "[1, 2.0, 3, 4.0, 5] [1.0, 3.0, 5.0, 4.0, 2.0]\n"
          ]
        }
      ],
      "source": [
        "empty_list = []\n",
        "float_list = [1., 3., 5., 4., 2.]\n",
        "int_list = [1, 2, 3, 4, 5, 6, 7, 8, 9, 10]\n",
        "mixed_list = [1, 2., 3, 4., 5]\n",
        "print(empty_list)\n",
        "print(int_list)\n",
        "print(mixed_list, float_list)"
      ]
    },
    {
      "cell_type": "markdown",
      "metadata": {},
      "source": [
        "Lists in Python are zero-indexed, as in C.  The first entry of the list has index 0, the second has index 1, and so on."
      ]
    },
    {
      "cell_type": "code",
      "execution_count": 3,
      "metadata": {},
      "outputs": [
        {
          "name": "stdout",
          "output_type": "stream",
          "text": [
            "1\n",
            "3.0\n"
          ]
        }
      ],
      "source": [
        "print(int_list[0])\n",
        "print(float_list[1])"
      ]
    },
    {
      "cell_type": "markdown",
      "metadata": {},
      "source": [
        "What happens if we try to use an index that doesn't exist for that list?  Python will complain!"
      ]
    },
    {
      "cell_type": "code",
      "execution_count": 4,
      "metadata": {},
      "outputs": [
        {
          "ename": "IndexError",
          "evalue": "list index out of range",
          "output_type": "error",
          "traceback": [
            "\u001b[1;31m---------------------------------------------------------------------------\u001b[0m",
            "\u001b[1;31mIndexError\u001b[0m                                Traceback (most recent call last)",
            "Cell \u001b[1;32mIn[4], line 1\u001b[0m\n\u001b[1;32m----> 1\u001b[0m \u001b[38;5;28mprint\u001b[39m(\u001b[43mfloat_list\u001b[49m\u001b[43m[\u001b[49m\u001b[38;5;241;43m10\u001b[39;49m\u001b[43m]\u001b[49m)\n",
            "\u001b[1;31mIndexError\u001b[0m: list index out of range"
          ]
        }
      ],
      "source": [
        "print(float_list[10])"
      ]
    },
    {
      "cell_type": "markdown",
      "metadata": {},
      "source": [
        "A list has a length at any given point in the execution of the code, which we can find using the `len` function."
      ]
    },
    {
      "cell_type": "code",
      "execution_count": 17,
      "metadata": {},
      "outputs": [],
      "source": [
        "print(float_list)\n",
        "len(float_list)"
      ]
    },
    {
      "cell_type": "markdown",
      "metadata": {},
      "source": [
        "### Indexing on lists"
      ]
    },
    {
      "cell_type": "markdown",
      "metadata": {},
      "source": [
        "And since Python is zero-indexed, the last element of `float_list` is"
      ]
    },
    {
      "cell_type": "code",
      "execution_count": 18,
      "metadata": {},
      "outputs": [],
      "source": [
        "float_list[len(float_list)-1]"
      ]
    },
    {
      "cell_type": "markdown",
      "metadata": {},
      "source": [
        "It is more idiomatic in python to use -1 for the last element, -2 for the second last, and so on"
      ]
    },
    {
      "cell_type": "code",
      "execution_count": 19,
      "metadata": {},
      "outputs": [],
      "source": [
        "float_list[-1]"
      ]
    },
    {
      "cell_type": "markdown",
      "metadata": {},
      "source": [
        "We can use the ``:`` operator to access a subset of the list.  This is called *slicing.* "
      ]
    },
    {
      "cell_type": "code",
      "execution_count": 20,
      "metadata": {},
      "outputs": [],
      "source": [
        "print(float_list[1:5])\n",
        "print(float_list[0:2])"
      ]
    },
    {
      "cell_type": "markdown",
      "metadata": {},
      "source": [
        "Below is a summary of list slicing operations:\n",
        "\n",
        "<img src=\"images/ops3_v2.png\" alt=\"Drawing\" style=\"width: 600px;\"/>"
      ]
    },
    {
      "cell_type": "markdown",
      "metadata": {},
      "source": [
        "You can slice \"backwards\" as well:"
      ]
    },
    {
      "cell_type": "code",
      "execution_count": 21,
      "metadata": {},
      "outputs": [],
      "source": [
        "float_list[:-2] # up to second last"
      ]
    },
    {
      "cell_type": "code",
      "execution_count": 22,
      "metadata": {},
      "outputs": [],
      "source": [
        "float_list[:4] # up to but not including 5th element"
      ]
    },
    {
      "cell_type": "markdown",
      "metadata": {},
      "source": [
        "You can also slice with a stride:"
      ]
    },
    {
      "cell_type": "code",
      "execution_count": 23,
      "metadata": {},
      "outputs": [],
      "source": [
        "float_list[:4:2] # above but skipping every second element"
      ]
    },
    {
      "cell_type": "markdown",
      "metadata": {},
      "source": [
        "We can iterate through a list using a loop.  Here's a for loop."
      ]
    },
    {
      "cell_type": "code",
      "execution_count": 24,
      "metadata": {},
      "outputs": [],
      "source": [
        "for ele in float_list:\n",
        "    print(ele)"
      ]
    },
    {
      "cell_type": "markdown",
      "metadata": {},
      "source": [
        "Or, if we like, we can iterate through a list using the indices using a for loop with  `in range`. This is not idiomatic and is not recommended, but accomplishes the same thing as above."
      ]
    },
    {
      "cell_type": "code",
      "execution_count": 25,
      "metadata": {},
      "outputs": [],
      "source": [
        "for i in range(len(float_list)):\n",
        "    print(float_list[i])"
      ]
    },
    {
      "cell_type": "markdown",
      "metadata": {},
      "source": [
        "What if you wanted the index as well?"
      ]
    },
    {
      "cell_type": "markdown",
      "metadata": {},
      "source": [
        "Python has other useful functions such as `enumerate`,  which can be used to create a list of tuples with each tuple of the form `(index, value)`. "
      ]
    },
    {
      "cell_type": "code",
      "execution_count": 5,
      "metadata": {
        "scrolled": true
      },
      "outputs": [
        {
          "name": "stdout",
          "output_type": "stream",
          "text": [
            "0 1.0\n",
            "1 3.0\n",
            "2 5.0\n",
            "3 4.0\n",
            "4 2.0\n"
          ]
        }
      ],
      "source": [
        "for i, ele in enumerate(float_list):\n",
        "    print(i,ele)"
      ]
    },
    {
      "cell_type": "code",
      "execution_count": 9,
      "metadata": {},
      "outputs": [
        {
          "name": "stdout",
          "output_type": "stream",
          "text": [
            "a [(0, 1.0), (1, 3.0), (2, 5.0), (3, 4.0), (4, 2.0)]\n"
          ]
        }
      ],
      "source": [
        "a=list(enumerate(float_list))\n",
        "print(\"a\",a)"
      ]
    },
    {
      "cell_type": "markdown",
      "metadata": {},
      "source": [
        "This is an example of an *iterator*, something that can be used to set up an iteration. When you call `enumerate`, a list if tuples is not created. Rather an object is created, which when iterated over (or when the `list` function is called using it as an argument), acts like you are in a loop, outputting one tuple at a time."
      ]
    },
    {
      "cell_type": "markdown",
      "metadata": {},
      "source": [
        "### Appending and deleting"
      ]
    },
    {
      "cell_type": "markdown",
      "metadata": {},
      "source": [
        "We can also append items to the end of the list using the `+` operator or with `append`."
      ]
    },
    {
      "cell_type": "code",
      "execution_count": 10,
      "metadata": {},
      "outputs": [
        {
          "data": {
            "text/plain": [
              "[1.0, 3.0, 5.0, 4.0, 2.0, 0.333]"
            ]
          },
          "execution_count": 10,
          "metadata": {},
          "output_type": "execute_result"
        }
      ],
      "source": [
        "float_list + [.333]"
      ]
    },
    {
      "cell_type": "code",
      "execution_count": 11,
      "metadata": {
        "collapsed": true
      },
      "outputs": [],
      "source": [
        "float_list.append(.444)"
      ]
    },
    {
      "cell_type": "code",
      "execution_count": 12,
      "metadata": {},
      "outputs": [
        {
          "name": "stdout",
          "output_type": "stream",
          "text": [
            "[1.0, 3.0, 5.0, 4.0, 2.0, 0.444]\n"
          ]
        },
        {
          "data": {
            "text/plain": [
              "6"
            ]
          },
          "execution_count": 12,
          "metadata": {},
          "output_type": "execute_result"
        }
      ],
      "source": [
        "print(float_list)\n",
        "len(float_list)"
      ]
    },
    {
      "cell_type": "markdown",
      "metadata": {},
      "source": [
        "Go and run the cell with `float_list.append` a second time.  Then run the next line.  What happens?  \n",
        "\n",
        "To remove an item from the list, use `del.`"
      ]
    },
    {
      "cell_type": "code",
      "execution_count": 31,
      "metadata": {},
      "outputs": [],
      "source": [
        "del(float_list[2])\n",
        "print(float_list)"
      ]
    },
    {
      "cell_type": "markdown",
      "metadata": {},
      "source": [
        "### List Comprehensions\n",
        "\n",
        "Lists can be constructed in a compact way using a *list comprehension*.  Here's a simple example."
      ]
    },
    {
      "cell_type": "code",
      "execution_count": 13,
      "metadata": {},
      "outputs": [
        {
          "data": {
            "text/plain": [
              "[1, 4, 9, 16, 25, 36, 49, 64, 81, 100]"
            ]
          },
          "execution_count": 13,
          "metadata": {},
          "output_type": "execute_result"
        }
      ],
      "source": [
        "squaredlist = [i*i for i in int_list]\n",
        "squaredlist"
      ]
    },
    {
      "cell_type": "markdown",
      "metadata": {},
      "source": [
        "And here's a more complicated one, requiring a conditional."
      ]
    },
    {
      "cell_type": "code",
      "execution_count": 14,
      "metadata": {},
      "outputs": [
        {
          "name": "stdout",
          "output_type": "stream",
          "text": [
            "[8, 32, 72, 128, 200]\n"
          ]
        }
      ],
      "source": [
        "comp_list1 = [2*i for i in squaredlist if i % 2 == 0]\n",
        "print(comp_list1)"
      ]
    },
    {
      "cell_type": "markdown",
      "metadata": {},
      "source": [
        "This is entirely equivalent to creating `comp_list1` using a loop with a conditional, as below:"
      ]
    },
    {
      "cell_type": "code",
      "execution_count": 34,
      "metadata": {},
      "outputs": [],
      "source": [
        "comp_list2 = []\n",
        "for i in squaredlist:\n",
        "    if i % 2 == 0:\n",
        "        comp_list2.append(2*i)\n",
        "        \n",
        "comp_list2"
      ]
    },
    {
      "cell_type": "markdown",
      "metadata": {},
      "source": [
        "The list comprehension syntax\n",
        "\n",
        "```\n",
        "[expression for item in list if conditional]\n",
        "\n",
        "```\n",
        "\n",
        "is equivalent to the syntax\n",
        "\n",
        "```\n",
        "for item in list:\n",
        "    if conditional:\n",
        "        expression\n",
        "```"
      ]
    },
    {
      "cell_type": "markdown",
      "metadata": {},
      "source": [
        ">**EXERCISE**:  Build a list that contains every prime number between 1 and 100, in two different ways:\n",
        "1.  Using for loops and conditional if statements.\n",
        "2.  *(Stretch Goal)* Using a list comprehension.  You should be able to do this in one line of code, and it may be helpful to look up the function `all` in the documentation."
      ]
    },
    {
      "cell_type": "code",
      "execution_count": 3,
      "metadata": {},
      "outputs": [
        {
          "name": "stdout",
          "output_type": "stream",
          "text": [
            "[2, 3, 4, 5, 6, 7, 8, 9]\n"
          ]
        }
      ],
      "source": []
    },
    {
      "cell_type": "code",
      "execution_count": 1,
      "metadata": {},
      "outputs": [
        {
          "name": "stdout",
          "output_type": "stream",
          "text": [
            "[2, 3, 5, 7, 11, 13, 17, 19, 23, 29, 31, 37, 41, 43, 47, 53, 59, 61, 67, 71, 73, 79, 83, 89, 97]\n"
          ]
        }
      ],
      "source": [
        "x=[i for i in range(2,101) if all(i%x!=0 for x in range(2,int (i**.5)+1))]\n",
        "print(x)\n"
      ]
    },
    {
      "cell_type": "markdown",
      "metadata": {},
      "source": [
        "## Part 3:  Strings and listiness"
      ]
    },
    {
      "cell_type": "markdown",
      "metadata": {},
      "source": [
        "A list is a container that holds a bunch of objects.  We're particularly interested in Python lists because many other containers in Python, like strings, dictionaries, numpy arrays, pandas series and dataframes, and iterators like `enumerate`, have list-like properties.  This is known as [duck](https://en.wikipedia.org/wiki/Duck_typing) typing, a term coined by Alex Martelli, which refers to the notion that  *if it quacks like a duck, it is a duck*.  We'll soon see that these  containers quack like lists, so for practical purposes we can think of these containers as lists!  They are listy!\n",
        "\n",
        "Containers that are listy have a set length, can be sliced, and can be iterated over with a loop.  Let's look at some listy containers now."
      ]
    },
    {
      "cell_type": "markdown",
      "metadata": {},
      "source": [
        "### Strings\n",
        "We claim that strings are listy.  Here's a string."
      ]
    },
    {
      "cell_type": "code",
      "execution_count": 37,
      "metadata": {
        "collapsed": true
      },
      "outputs": [],
      "source": [
        "astring = \"kevin\""
      ]
    },
    {
      "cell_type": "markdown",
      "metadata": {},
      "source": [
        "Like lists, this string has a set length, the number of characters in the string."
      ]
    },
    {
      "cell_type": "code",
      "execution_count": 15,
      "metadata": {},
      "outputs": [
        {
          "data": {
            "text/plain": [
              "5"
            ]
          },
          "execution_count": 15,
          "metadata": {},
          "output_type": "execute_result"
        }
      ],
      "source": [
        "astring = \"kevin\"\n",
        "len(astring)"
      ]
    },
    {
      "cell_type": "markdown",
      "metadata": {},
      "source": [
        "Like lists, we can slice the string."
      ]
    },
    {
      "cell_type": "code",
      "execution_count": 17,
      "metadata": {},
      "outputs": [
        {
          "name": "stdout",
          "output_type": "stream",
          "text": [
            "ke\n",
            "kevin\n",
            "n\n"
          ]
        }
      ],
      "source": [
        "print(astring[0:2])\n",
        "print(astring[0:6:1])\n",
        "print(astring[-1])"
      ]
    },
    {
      "cell_type": "markdown",
      "metadata": {},
      "source": [
        "And we can iterate through the string with a loop.  Below is a while loop:"
      ]
    },
    {
      "cell_type": "code",
      "execution_count": 40,
      "metadata": {},
      "outputs": [],
      "source": [
        "i = 0\n",
        "while i < len(astring):\n",
        "    print(astring[i])\n",
        "    i = i + 1"
      ]
    },
    {
      "cell_type": "markdown",
      "metadata": {},
      "source": [
        "This is equivalent to the for loop:"
      ]
    },
    {
      "cell_type": "code",
      "execution_count": 41,
      "metadata": {},
      "outputs": [],
      "source": [
        "for character in astring:\n",
        "    print(character)"
      ]
    },
    {
      "cell_type": "markdown",
      "metadata": {},
      "source": [
        "So strings are listy.  \n",
        "\n",
        "How are strings different from lists?  While lists are mutable, strings are immutable.  Note that an error occurs when we try to change the second elemnt of `string_list` from 1 to b."
      ]
    },
    {
      "cell_type": "code",
      "execution_count": 18,
      "metadata": {},
      "outputs": [
        {
          "name": "stdout",
          "output_type": "stream",
          "text": [
            "[1.0, 3.0, 5.0, 4.0, 2.0, 0.444]\n",
            "[1.0, 2.09, 5.0, 4.0, 2.0, 0.444]\n",
            "kevin\n"
          ]
        },
        {
          "ename": "TypeError",
          "evalue": "'str' object does not support item assignment",
          "output_type": "error",
          "traceback": [
            "\u001b[1;31m---------------------------------------------------------------------------\u001b[0m",
            "\u001b[1;31mTypeError\u001b[0m                                 Traceback (most recent call last)",
            "Cell \u001b[1;32mIn[18], line 5\u001b[0m\n\u001b[0;32m      3\u001b[0m \u001b[38;5;28mprint\u001b[39m(float_list)\n\u001b[0;32m      4\u001b[0m \u001b[38;5;28mprint\u001b[39m(astring)\n\u001b[1;32m----> 5\u001b[0m \u001b[43mastring\u001b[49m\u001b[43m[\u001b[49m\u001b[38;5;241;43m1\u001b[39;49m\u001b[43m]\u001b[49m \u001b[38;5;241m=\u001b[39m \u001b[38;5;124m'\u001b[39m\u001b[38;5;124mb\u001b[39m\u001b[38;5;124m'\u001b[39m\n\u001b[0;32m      6\u001b[0m \u001b[38;5;28mprint\u001b[39m(astring)\n",
            "\u001b[1;31mTypeError\u001b[0m: 'str' object does not support item assignment"
          ]
        }
      ],
      "source": [
        "print(float_list)\n",
        "float_list[1] = 2.09\n",
        "print(float_list)\n",
        "print(astring)\n",
        "astring[1] = 'b'\n",
        "print(astring)"
      ]
    },
    {
      "cell_type": "markdown",
      "metadata": {},
      "source": [
        "We can't use `append` but we can concatenate with `+`. Why is this?"
      ]
    },
    {
      "cell_type": "code",
      "execution_count": 43,
      "metadata": {},
      "outputs": [],
      "source": [
        "astring = astring + ', pavlos, ' + 'rahul, ' + 'margo'\n",
        "print(astring)\n",
        "type(astring)"
      ]
    },
    {
      "cell_type": "markdown",
      "metadata": {},
      "source": [
        "What is happening here is that we are creating a new string in memory when we do `astring + ', pavlos, ' + 'rahul, ' + 'margo'`. Then we are relabelling this string with the old lavel `astring`. This means that the old memory that `astring` labelled is forgotten. What happens to it? We'll find out in lab 1."
      ]
    },
    {
      "cell_type": "markdown",
      "metadata": {},
      "source": [
        "Or we could use `join`.  See below for a summary of common string operations.  "
      ]
    },
    {
      "cell_type": "markdown",
      "metadata": {},
      "source": [
        "<img src=\"images/ops4_v3.png\" alt=\"Drawing\" style=\"width: 600px;\"/>"
      ]
    },
    {
      "cell_type": "markdown",
      "metadata": {},
      "source": [
        "To summarize this section, for  practical purposes all containers that are listy have the following properties:\n",
        "\n",
        "1.  Have a set length, which you can find using `len`\n",
        "2.  Are iterable (via a loop)\n",
        "3.  Are sliceable via : operations\n",
        "\n",
        "We will encounter other listy containers soon."
      ]
    },
    {
      "cell_type": "markdown",
      "metadata": {},
      "source": [
        ">**EXERCISE**: Make three strings, called `first`, `middle`, and `last`, with your first, middle, and last names, respectively.  If you don't have a middle name, make up a middle name!  \n",
        "\n",
        ">Then create a string called `full_name` that joins your first, middle, and last name, with a space separating your first, middle, and last names.  \n",
        "\n",
        ">Finally make a string called `full_name_rev` which takes `full_name` and reverses the letters.  For example, if `full_name` is `Jane Beth Doe`, then `full_name_rev` is `eoD hteB enaJ`.\n",
        "\n"
      ]
    },
    {
      "cell_type": "code",
      "execution_count": 44,
      "metadata": {},
      "outputs": [],
      "source": [
        "list(range(-1, -5))"
      ]
    },
    {
      "cell_type": "code",
      "execution_count": 45,
      "metadata": {},
      "outputs": [],
      "source": [
        "# your code here\n"
      ]
    },
    {
      "cell_type": "markdown",
      "metadata": {},
      "source": [
        "## Part 4: Dictionaries\n",
        "A dictionary is another storage container.  Like a list, a dictionary is a sequence of items.  Unlike a list, a dictionary is unordered and its items are accessed with keys and not integer positions.  \n",
        "\n",
        "Dictionaries are the closest container we have to a database.\n",
        "\n",
        "Let's make a dictionary with a few Harvard courses and their corresponding enrollment numbers."
      ]
    },
    {
      "cell_type": "code",
      "execution_count": 19,
      "metadata": {},
      "outputs": [
        {
          "data": {
            "text/plain": [
              "{'CS50': 692,\n",
              " 'CS109 / Stat 121 / AC 209': 312,\n",
              " 'Econ1011a': 95,\n",
              " 'AM21a': 153,\n",
              " 'Stat110': 485}"
            ]
          },
          "execution_count": 19,
          "metadata": {},
          "output_type": "execute_result"
        }
      ],
      "source": [
        "enroll2016_dict = {'CS50': 692, 'CS109 / Stat 121 / AC 209': 312, 'Econ1011a': 95, 'AM21a': 153, 'Stat110': 485}\n",
        "enroll2016_dict"
      ]
    },
    {
      "cell_type": "code",
      "execution_count": 20,
      "metadata": {},
      "outputs": [
        {
          "data": {
            "text/plain": [
              "dict_values([692, 312, 95, 153, 485])"
            ]
          },
          "execution_count": 20,
          "metadata": {},
          "output_type": "execute_result"
        }
      ],
      "source": [
        "enroll2016_dict.values()"
      ]
    },
    {
      "cell_type": "code",
      "execution_count": 21,
      "metadata": {},
      "outputs": [
        {
          "data": {
            "text/plain": [
              "dict_items([('CS50', 692), ('CS109 / Stat 121 / AC 209', 312), ('Econ1011a', 95), ('AM21a', 153), ('Stat110', 485)])"
            ]
          },
          "execution_count": 21,
          "metadata": {},
          "output_type": "execute_result"
        }
      ],
      "source": [
        "enroll2016_dict.items()"
      ]
    },
    {
      "cell_type": "code",
      "execution_count": 22,
      "metadata": {},
      "outputs": [
        {
          "name": "stdout",
          "output_type": "stream",
          "text": [
            "CS50: 692\n",
            "CS109 / Stat 121 / AC 209: 312\n",
            "Econ1011a: 95\n",
            "AM21a: 153\n",
            "Stat110: 485\n"
          ]
        }
      ],
      "source": [
        "for key, value in enroll2016_dict.items():\n",
        "    print(\"%s: %d\" %(key, value))"
      ]
    },
    {
      "cell_type": "markdown",
      "metadata": {},
      "source": [
        "Simply iterating over a dictionary gives us the keys. This is useful when we want to do something with each item:"
      ]
    },
    {
      "cell_type": "code",
      "execution_count": 8,
      "metadata": {},
      "outputs": [
        {
          "data": {
            "text/plain": [
              "{'CS50': 692,\n",
              " 'CS109 / Stat 121 / AC 209': 312,\n",
              " 'Econ1011a': 95,\n",
              " 'AM21a': 153,\n",
              " 'Stat110': 485}"
            ]
          },
          "execution_count": 8,
          "metadata": {},
          "output_type": "execute_result"
        }
      ],
      "source": [
        "second_dict={}\n",
        "for key in enroll2016_dict:\n",
        "    second_dict[key] = enroll2016_dict[key]\n",
        "second_dict"
      ]
    },
    {
      "cell_type": "markdown",
      "metadata": {},
      "source": [
        "The above is an actual copy to another part of memory, unlike, `second_dict = enroll2016_dict` which would have made both variables label the same meory location."
      ]
    },
    {
      "cell_type": "markdown",
      "metadata": {},
      "source": [
        "In this example, the keys are strings corresponding to course names.  Keys don't have to be strings though.  \n",
        "\n",
        "Like lists, you can construct dictionaries using a *dictionary comprehension*, which is similar to a list comprehension. Notice the brackets {} and the use of `zip`, which is another iterator that combines two lists together."
      ]
    },
    {
      "cell_type": "code",
      "execution_count": 6,
      "metadata": {},
      "outputs": [
        {
          "data": {
            "text/plain": [
              "{1: 1.1, 2: 2, 3: 3}"
            ]
          },
          "execution_count": 6,
          "metadata": {},
          "output_type": "execute_result"
        }
      ],
      "source": [
        "int_list=[1,2,3]\n",
        "float_list=[1.1,2,3]\n",
        "my_dict = {k:v for (k, v) in zip(int_list, float_list)}\n",
        "my_dict"
      ]
    },
    {
      "cell_type": "markdown",
      "metadata": {},
      "source": [
        "You can also create dictionaries nicely using the *constructor* function `dict`."
      ]
    },
    {
      "cell_type": "code",
      "execution_count": 8,
      "metadata": {},
      "outputs": [
        {
          "name": "stdout",
          "output_type": "stream",
          "text": [
            "4\n"
          ]
        }
      ],
      "source": [
        "dict={'4':3}\n",
        "for key in dict:\n",
        "    print(key)"
      ]
    },
    {
      "cell_type": "markdown",
      "metadata": {},
      "source": [
        "While dictionaries have some similarity to lists, they are not listy.  They do have a set length, and the can be iterated through with a loop, but they cannot be sliced, since they have no sense of an order. In technical terms, they satisfy, along with lists and strings, Python's *Sequence* protocol, which is a higher abstraction than that of a list."
      ]
    },
    {
      "cell_type": "markdown",
      "metadata": {},
      "source": [
        "### A cautionary word on iterators (read at home)\n",
        "\n",
        "Iterators are a bit different from lists in the sense that they can be \"exhausted\". Perhaps its best to explain with an example"
      ]
    },
    {
      "cell_type": "code",
      "execution_count": 53,
      "metadata": {
        "collapsed": true
      },
      "outputs": [],
      "source": [
        "an_iterator = enumerate(astring)"
      ]
    },
    {
      "cell_type": "code",
      "execution_count": 54,
      "metadata": {},
      "outputs": [],
      "source": [
        "type(an_iterator)"
      ]
    },
    {
      "cell_type": "code",
      "execution_count": 14,
      "metadata": {},
      "outputs": [
        {
          "ename": "NameError",
          "evalue": "name 'an_iterator' is not defined",
          "output_type": "error",
          "traceback": [
            "\u001b[1;31m---------------------------------------------------------------------------\u001b[0m",
            "\u001b[1;31mNameError\u001b[0m                                 Traceback (most recent call last)",
            "Cell \u001b[1;32mIn[14], line 1\u001b[0m\n\u001b[1;32m----> 1\u001b[0m \u001b[39mfor\u001b[39;00m i, c \u001b[39min\u001b[39;00m an_iterator:\n\u001b[0;32m      2\u001b[0m     \u001b[39mprint\u001b[39m(i,c)\n",
            "\u001b[1;31mNameError\u001b[0m: name 'an_iterator' is not defined"
          ]
        }
      ],
      "source": [
        "for i, c in an_iterator:\n",
        "    print(i,c)"
      ]
    },
    {
      "cell_type": "code",
      "execution_count": 56,
      "metadata": {
        "collapsed": true
      },
      "outputs": [],
      "source": [
        "for i, c in an_iterator:\n",
        "    print(i,c)"
      ]
    },
    {
      "cell_type": "markdown",
      "metadata": {},
      "source": [
        "What happens, you get nothing when you run this again! This is because the iterator has been \"exhausted\", ie, all its items are used up. I have had answers go wrong for me because I wasnt careful about this. You must either track the state of the iterator or bypass this problem by not storing `enumerate(BLA)` in a variable, so that you dont inadvertantly \"use that variable\" twice."
      ]
    },
    {
      "cell_type": "markdown",
      "metadata": {},
      "source": [
        "## Part 5: Functions\n",
        "\n",
        "A *function* is a reusable block of code that does a specfic task.  Functions are all over Python, either on their own or on objects.  \n",
        "\n",
        "We've seen built-in Python functions and methods.  For example, `len` and `print` are built-in Python functions.  And at the beginning of the lab, you called `np.mean` to calculate the mean of three numbers, where `mean` is a function in the numpy module and numpy was abbreviated as `np`. This syntax allow us to have multiple \"mean\" functions\" in different modules; calling this one as `np.mean` guarantees that we will pick up numpy's mean function.\n",
        "\n",
        "### Methods\n",
        "\n",
        "A function that belongs to an object is called a *method*. An example of this is `append` on an **existing** list. In other words, a *method* is a function on an **instance** of a type of object (also called **class**, here the list type)."
      ]
    },
    {
      "cell_type": "code",
      "execution_count": 57,
      "metadata": {},
      "outputs": [],
      "source": [
        "print(float_list)\n",
        "float_list.append(56.7) \n",
        "float_list"
      ]
    },
    {
      "cell_type": "markdown",
      "metadata": {},
      "source": [
        "### User-defined functions\n",
        "\n",
        "We'll now learn to write our own user-defined functions.  Below is the syntax for defining a basic function with one input argument and one output. You can also define functions with no input or output arguments, or multiple input or output arguments.\n",
        "\n",
        "```\n",
        "def name_of_function(arg):\n",
        "    ...\n",
        "    return(output)\n",
        "```"
      ]
    },
    {
      "cell_type": "markdown",
      "metadata": {},
      "source": [
        "The simplest function has no arguments whatsoever."
      ]
    },
    {
      "cell_type": "code",
      "execution_count": 58,
      "metadata": {},
      "outputs": [],
      "source": [
        "def print_greeting():\n",
        "    print(\"Hello, welcome to CS 109 / Stat 121 / AC 209a / CSCI E-109A!\")\n",
        "    \n",
        "print_greeting()"
      ]
    },
    {
      "cell_type": "markdown",
      "metadata": {},
      "source": [
        "We can write functions with one input and one output argument.  Here are two such functions."
      ]
    },
    {
      "cell_type": "code",
      "execution_count": 10,
      "metadata": {},
      "outputs": [
        {
          "name": "stdout",
          "output_type": "stream",
          "text": [
            "int square\n",
            "int square\n"
          ]
        },
        {
          "data": {
            "text/plain": [
              "(25, 125)"
            ]
          },
          "execution_count": 10,
          "metadata": {},
          "output_type": "execute_result"
        }
      ],
      "source": [
        "def square(x):\n",
        "    x_sqr = x*x\n",
        "    print(\"int square\")\n",
        "    return(x_sqr)\n",
        "\n",
        "def cube(x):\n",
        "    x_cub = x*x*x\n",
        "    return(x*square(x))\n",
        "\n",
        "square(5),cube(5)"
      ]
    },
    {
      "cell_type": "markdown",
      "metadata": {},
      "source": [
        "### Lambda functions\n",
        "\n",
        "Often we define a mathematical function with a quick one-line function called a *lambda*. No return statement is needed.\n",
        "\n",
        "The big use of lambda functions in data science is for mathematical functions."
      ]
    },
    {
      "cell_type": "code",
      "execution_count": 60,
      "metadata": {},
      "outputs": [],
      "source": [
        "square = lambda x: x*x\n",
        "print(square(3))\n",
        "\n",
        "\n",
        "hypotenuse = lambda x, y: x*x + y*y\n",
        "\n",
        "## Same as\n",
        "\n",
        "# def hypotenuse(x, y):\n",
        "#     return(x*x + y*y)\n",
        "\n",
        "hypotenuse(3,4)"
      ]
    },
    {
      "cell_type": "markdown",
      "metadata": {},
      "source": [
        "### Refactoring using functions\n",
        "\n",
        ">**EXERCISE**: Write a function called `isprime` that takes in a positive integer $N$, and determines whether or not it is prime.  Return the $N$ if it's prime and return nothing if it isn't.  You may want to reuse part of your code from the exercise in Part 2.  \n",
        "\n",
        "> Then, using a list comprehension and `isprime`, create a list `myprimes` that contains all the prime numbers less than 100.  "
      ]
    },
    {
      "cell_type": "code",
      "execution_count": 61,
      "metadata": {},
      "outputs": [],
      "source": [
        "# your code here\n"
      ]
    },
    {
      "cell_type": "markdown",
      "metadata": {},
      "source": [
        "Notice that what you just did is a **refactoring** of the algorithm you used earlier to find primes smaller than 100. This implementation reads much cleaner, and the function `isprime` which containes the \"kernel\" of the functionality of the algorithm can be **re-used** in other places. You should endeavor to write code like this."
      ]
    },
    {
      "cell_type": "markdown",
      "metadata": {},
      "source": [
        "### Default Arguments\n",
        "\n",
        "Functions may also have *default* argument values.  Functions with default values are used extensively in many libraries.  "
      ]
    },
    {
      "cell_type": "code",
      "execution_count": 62,
      "metadata": {},
      "outputs": [],
      "source": [
        "# This function can be called with x and y, in which case it will return x*y;\n",
        "# or it can be called with x only, in which case it will return x*1.\n",
        "def get_multiple(x, y = 1):\n",
        "    return x*y\n",
        "\n",
        "print(\"With x and y:\", get_multiple(10, 2))\n",
        "print(\"With x only:\", get_multiple(10))"
      ]
    },
    {
      "cell_type": "markdown",
      "metadata": {},
      "source": [
        "We can have multiple default values. "
      ]
    },
    {
      "cell_type": "code",
      "execution_count": 63,
      "metadata": {},
      "outputs": [],
      "source": [
        "def print_special_greeting(name, leaving = False, condition = \"nice\"):\n",
        "    print(\"Hi\", name)\n",
        "    print(\"How are you doing on this\", condition, \"day?\")\n",
        "    if leaving:\n",
        "        print(\"Please come back! \")\n",
        "\n",
        "# Use all the default arguments.\n",
        "print_special_greeting(\"Rahul\")"
      ]
    },
    {
      "cell_type": "markdown",
      "metadata": {},
      "source": [
        "Or change all the default arguments:"
      ]
    },
    {
      "cell_type": "code",
      "execution_count": 64,
      "metadata": {},
      "outputs": [],
      "source": [
        "print_special_greeting(\"Rahul\", True, \"rainy\")"
      ]
    },
    {
      "cell_type": "markdown",
      "metadata": {},
      "source": [
        "Or use the first default argument but change the second one."
      ]
    },
    {
      "cell_type": "code",
      "execution_count": 65,
      "metadata": {},
      "outputs": [],
      "source": [
        "print_special_greeting(\"Rahul\", condition=\"horrible\")"
      ]
    },
    {
      "cell_type": "markdown",
      "metadata": {},
      "source": [
        "### Positional and keyword arguments \n",
        "\n",
        "These allow for even more flexibility.  \n",
        "\n",
        "*Positional* arguments are used when you don't know how many input arguments your function be given.  Notice the single asterisk before the second argument name."
      ]
    },
    {
      "cell_type": "code",
      "execution_count": 12,
      "metadata": {},
      "outputs": [
        {
          "name": "stdout",
          "output_type": "stream",
          "text": [
            "John has the following siblings:\n",
            "Ashley\n",
            "Lauren\n",
            "Arthur\n",
            "\n",
            "Mike has the following siblings:\n",
            "John\n",
            "\n",
            "Terry has the following siblings:\n",
            "\n"
          ]
        }
      ],
      "source": [
        "def print_siblings(name, *siblings):\n",
        "    print(name, \"has the following siblings:\")\n",
        "    for sibling in siblings:\n",
        "        print(sibling)\n",
        "    print()\n",
        "print_siblings(\"John\", \"Ashley\", \"Lauren\", \"Arthur\")\n",
        "print_siblings(\"Mike\", \"John\")\n",
        "print_siblings(\"Terry\")        "
      ]
    },
    {
      "cell_type": "markdown",
      "metadata": {},
      "source": [
        "In the function above, arguments after the first input will go into a list called siblings. We can then process that list to extract the names.\n",
        "\n",
        "*Keyword* arguments mix the named argument and positional properties.  Notice the double asterisks before the second argument name."
      ]
    },
    {
      "cell_type": "code",
      "execution_count": 11,
      "metadata": {},
      "outputs": [
        {
          "name": "stdout",
          "output_type": "stream",
          "text": [
            "John has the following siblings:\n",
            "Ashley : sister\n",
            "Lauren : sister\n",
            "Arthur : brother\n",
            "\n"
          ]
        }
      ],
      "source": [
        "def print_brothers_sisters(name, **siblings):\n",
        "    print(name, \"has the following siblings:\")\n",
        "    for sibling in siblings:\n",
        "        print(sibling, \":\", siblings[sibling])\n",
        "    print()\n",
        "    \n",
        "print_brothers_sisters(\"John\", Ashley=\"sister\", Lauren=\"sister\", Arthur=\"brother\")"
      ]
    },
    {
      "cell_type": "markdown",
      "metadata": {},
      "source": [
        "### Putting things together\n",
        "\n",
        "Finally, when putting all those things together one must follow a certain order:\n",
        "Below is a more general function definition.  The ordering of the inputs is key: arguments, default, positional, keyword arguments.\n",
        "```\n",
        "def name_of_function(arg1, arg2, opt1=True, opt2=\"CS109\", *args, **kwargs):\n",
        "    ...\n",
        "    return(output1, output2, ...)\n",
        "```\n",
        "\n",
        "Positional arguments are stored in a tuple, and keyword arguments in a dictionary."
      ]
    },
    {
      "cell_type": "code",
      "execution_count": 68,
      "metadata": {},
      "outputs": [],
      "source": [
        "def f(a, b, c=5, *tupleargs, **dictargs):\n",
        "    print(\"got\", a, b, c, tupleargs, dictargs)\n",
        "    return a\n",
        "print(f(1,3))\n",
        "print(f(1, 3, c=4, d=1, e=3))\n",
        "print(f(1, 3, 9, 11, d=1, e=3)) # try calling with c = 9 to see what happens!"
      ]
    },
    {
      "cell_type": "markdown",
      "metadata": {},
      "source": [
        "### Functions are first class\n",
        "\n",
        "Python functions are *first class*, meaning that we can pass functions to other functions, built-in or user-defined. "
      ]
    },
    {
      "cell_type": "code",
      "execution_count": 69,
      "metadata": {},
      "outputs": [],
      "source": [
        "def sum_of_anything(x, y, f):\n",
        "    print(x, y, f)\n",
        "    return(f(x) + f(y))\n",
        "sum_of_anything(3,4,square)"
      ]
    },
    {
      "cell_type": "markdown",
      "metadata": {},
      "source": [
        "Finally, it's important to note that any name defined in this notebook is done at the *global* scope.  This means if you define your own `len` function, you will overshadow the system `len.`"
      ]
    },
    {
      "cell_type": "markdown",
      "metadata": {},
      "source": [
        ">**EXERCISE:** Create a dictionary, called `ps_dict`, that contains with the primes less than 100 and their corresponding squares."
      ]
    },
    {
      "cell_type": "code",
      "execution_count": 70,
      "metadata": {},
      "outputs": [],
      "source": [
        "# your code here\n"
      ]
    },
    {
      "cell_type": "markdown",
      "metadata": {},
      "source": [
        "## Part 6. Numpy\n",
        "Scientific Python code uses a fast array structure, called the numpy array. Those who have worked in Matlab will find this very natural. Let's make a numpy array."
      ]
    },
    {
      "cell_type": "code",
      "execution_count": 71,
      "metadata": {},
      "outputs": [],
      "source": [
        "my_array = np.array([1, 2, 3, 4])\n",
        "my_array"
      ]
    },
    {
      "cell_type": "markdown",
      "metadata": {},
      "source": [
        "Numpy arrays are listy. Below we compute length, slice, and iterate. But these are very bad ideas, for efficiency reasons we will see in lab 1."
      ]
    },
    {
      "cell_type": "code",
      "execution_count": 72,
      "metadata": {},
      "outputs": [],
      "source": [
        "print(len(my_array))\n",
        "print(my_array[2:4])\n",
        "for ele in my_array:\n",
        "    print(ele)"
      ]
    },
    {
      "cell_type": "markdown",
      "metadata": {},
      "source": [
        "In general you should manipulate numpy arrays by using numpy module functions (`np.mean`, for example). You can calculate the mean of the array elements either by calling the method `.mean` on a numpy array or by applying the function np.mean with the numpy array as an argument."
      ]
    },
    {
      "cell_type": "code",
      "execution_count": 73,
      "metadata": {},
      "outputs": [],
      "source": [
        "print(my_array.mean())\n",
        "print(np.mean(my_array))"
      ]
    },
    {
      "cell_type": "markdown",
      "metadata": {},
      "source": [
        "You can construct a normal distribution with mean0 and standard deviation 1 by doing:"
      ]
    },
    {
      "cell_type": "code",
      "execution_count": 2,
      "metadata": {},
      "outputs": [
        {
          "name": "stdout",
          "output_type": "stream",
          "text": [
            "[-6.26120433e-01 -2.50392772e-02  3.84221517e-03 -1.34857933e+00\n",
            "  2.20154951e-01 -1.41342210e+00  5.24855403e-01  2.39523837e+00\n",
            " -3.11402551e-01 -3.20625572e-01 -2.58415884e-01  1.03523154e+00\n",
            " -3.78278826e-02 -1.62799483e+00  1.87082723e-01  3.92697881e-01\n",
            " -1.31113770e+00 -1.04292589e-01 -2.00105051e+00  1.32498262e+00\n",
            " -1.80161221e-01  4.77277744e-01 -1.96296170e-01  1.18304310e+00\n",
            "  7.82698189e-02  6.27666434e-01  4.89406892e-01  2.42306093e-01\n",
            "  2.24671057e+00 -5.45031103e-01  1.69697284e+00  1.49008403e-01\n",
            "  4.28264302e-01 -9.73122986e-01  9.94720999e-01 -6.91443943e-02\n",
            " -7.52839944e-02  5.69300691e-01  1.94367967e+00  1.22371532e+00\n",
            " -2.44211697e+00 -6.35609819e-01 -6.36663930e-01 -2.02939318e-01\n",
            "  6.60011824e-01  2.11472510e-01 -1.25484689e+00  6.82321914e-01\n",
            "  1.41157398e-01 -7.11008474e-02  8.48510846e-01 -5.31184052e-01\n",
            "  4.24573685e-01  7.60185932e-01 -1.35333542e+00 -4.07320733e-01\n",
            " -9.25284442e-01  1.26017633e+00 -1.08565742e-01  9.63163482e-01\n",
            " -1.42465184e+00 -3.50432165e-01  5.56531283e-02  1.39113324e+00\n",
            " -1.62519740e+00 -1.58903856e-01 -1.31309506e+00 -2.15197013e-01\n",
            "  3.19768326e-01 -1.12679627e+00 -5.08777579e-01 -1.78021094e+00\n",
            "  3.06027496e-01 -1.78588670e+00 -8.84831557e-01  1.09435732e+00\n",
            "  6.17940275e-01  9.79430119e-01 -1.28751462e-01 -3.55765434e-01\n",
            " -8.03212408e-02 -2.12166491e+00  2.14411338e+00  5.36996898e-01\n",
            "  1.15939547e+00  9.12886331e-01  1.96074766e+00 -2.27331461e-01\n",
            "  3.44313030e+00 -8.65254706e-01  7.03513141e-01 -7.65310718e-01\n",
            " -8.10312919e-01  1.20935394e+00 -1.77386589e+00  8.23057177e-01\n",
            " -4.32546127e-01  3.41145268e-01 -6.18497326e-01  1.16936918e+00\n",
            " -3.07140355e-01 -5.74525455e-01 -7.54486694e-01 -1.22347480e+00\n",
            "  1.54590388e+00 -5.90950208e-01 -9.21155273e-01  7.82756574e-01\n",
            " -1.55115341e+00  1.95557657e-01  3.30614672e-01 -1.05747023e+00\n",
            " -1.52328287e+00 -9.64429535e-01  4.95006780e-01 -9.38360789e-01\n",
            "  1.45908935e+00 -9.61852422e-01  4.67087736e-01 -1.07771944e+00\n",
            " -1.03469819e+00 -1.01974395e+00  4.91230457e-01 -1.33544782e+00\n",
            "  1.07832627e+00  1.87964936e+00 -1.22861037e+00  6.71183162e-01\n",
            "  7.01052265e-01 -3.34676265e-01  1.73156370e+00 -1.71586093e-01\n",
            "  1.03909775e+00 -5.66551610e-01  1.29693682e+00 -1.92476934e-01\n",
            "  1.55499336e+00  5.64875657e-01  6.36913525e-01  1.03671319e+00\n",
            "  1.53558331e+00 -1.27982892e+00  5.10507845e-01 -8.01099373e-01\n",
            "  1.47208641e-01  7.06189419e-01  3.83999270e-01 -1.41645676e+00\n",
            "  1.15441201e+00  1.36120739e+00 -1.80887641e-02 -2.20090412e-01\n",
            "  1.94720874e+00  4.22713367e-01  2.66870563e-01  1.85837915e+00\n",
            "  1.24939223e-02  3.50799513e-01  6.84588020e-01  1.70927915e+00\n",
            "  2.65500583e+00 -8.81101654e-01 -2.54438819e+00  1.41033859e+00\n",
            " -8.57527646e-01 -1.12272652e+00 -6.67978316e-01  1.10947310e+00\n",
            "  1.41864456e-01 -1.96117246e+00 -5.90229661e-01  1.33480535e+00\n",
            "  1.48453995e+00  2.16802798e-01 -7.99640428e-02 -1.03341125e+00\n",
            "  1.55431661e+00  1.98563096e+00  5.72613680e-01  7.72778760e-01\n",
            "  3.43908229e-01 -1.21640330e+00 -9.72240205e-01  1.38890398e-01\n",
            " -1.36968248e+00 -1.23178184e+00 -1.81931931e-01 -1.53808613e+00\n",
            " -2.38349001e-01  2.12149230e-01 -7.51678254e-01  8.05618429e-01\n",
            " -7.18571335e-01  5.02360228e-01  1.93318790e-01 -6.08495799e-01\n",
            "  5.22707329e-01  1.16926019e+00 -1.22050484e+00  6.82411600e-01\n",
            " -2.24834887e+00 -8.46030901e-01  1.95398240e-01  1.68471622e+00\n",
            " -6.88948017e-01 -4.85383263e-02 -5.42418059e-01 -5.94343690e-01\n",
            "  8.21277637e-01 -8.78598441e-03 -1.39517549e+00  6.95910921e-01\n",
            " -4.17578648e-01 -1.94428530e-01 -5.83926616e-01  3.66103244e-01\n",
            " -1.78503884e-01  1.31012246e+00  1.06542762e-02 -9.21931010e-01\n",
            " -1.02862198e+00  2.67387063e+00  3.03126945e-01  8.71632715e-01\n",
            " -1.16097827e+00 -1.55859991e+00 -7.97772614e-01  4.63795387e-01\n",
            " -7.25094229e-01  1.39546231e+00 -1.37884348e-01  4.70981378e-01\n",
            " -4.99931416e-01  6.07332014e-01 -8.77082297e-01  3.95945752e-01\n",
            " -3.46934360e-01 -2.63558154e-01  1.22381970e+00  2.26924232e+00\n",
            " -8.54318684e-01 -1.90435907e-01  4.83220074e-01  9.27715261e-01\n",
            " -4.65783814e-02 -6.40922149e-01 -2.67670299e-01 -1.30071798e-01\n",
            " -2.71479679e-01  1.07671940e+00 -5.38444991e-01  3.94130105e-01\n",
            "  7.44892591e-01 -8.31522400e-01 -2.38995185e+00 -1.88196253e+00\n",
            " -3.78057118e-01 -5.65212329e-01 -1.21058307e+00  1.25087960e+00\n",
            "  5.89177676e-01  1.04734072e-01 -8.13808005e-01 -1.87672753e+00\n",
            " -9.73077530e-01 -2.76596446e-01  1.07458463e+00  3.85643682e-01\n",
            "  4.18909159e-01 -8.04620278e-01 -8.29222794e-01 -7.80045237e-01\n",
            " -1.65415883e+00  6.33518622e-02  2.02796979e-01  8.86096465e-01\n",
            " -2.14361108e-01 -4.50081913e-01 -4.77584429e-01  1.31742320e+00\n",
            "  7.01867762e-02  1.96733810e+00  1.77236497e-01  6.15420587e-01\n",
            "  3.07222590e-01  1.20307021e-01 -5.75561442e-01  1.84595785e+00\n",
            " -1.22237872e-01  3.30185440e-01 -7.61983607e-01  1.67523489e-01\n",
            "  1.41918792e+00  8.62882000e-02  1.40499465e+00  1.20924212e-01\n",
            "  8.06665592e-01 -2.53540719e-01 -2.34676412e-01 -1.13452699e+00\n",
            "  8.47458344e-01  3.18143319e-01  2.04729374e+00  7.98331454e-01\n",
            " -3.20964611e-01 -1.39448201e+00 -1.08960447e-01  6.69665847e-01\n",
            "  3.71362681e-01  1.04178908e+00  1.46105338e+00 -6.09213766e-01\n",
            "  5.42479966e-01 -3.13994525e-01 -2.91435769e-01  1.05270314e+00\n",
            " -4.89156686e-02 -1.51896359e+00  2.10173675e+00 -8.70505598e-01\n",
            " -1.97352305e+00 -1.19203033e+00  2.42341942e+00  7.93510532e-03\n",
            "  3.97311657e-01 -7.36331913e-01  4.71978428e-01  2.07595344e+00\n",
            " -8.76669822e-01 -2.38642426e-02  1.09863119e+00 -2.11277524e-01\n",
            " -2.44359413e-01 -4.07897052e-01  5.33785812e-02  6.26637422e-01\n",
            " -5.08408451e-01  6.38213317e-01  5.86548009e-01  1.24592707e+00\n",
            " -8.83801330e-03 -4.28956021e-01 -6.08114405e-01 -3.86363154e-01\n",
            " -6.88709937e-01  2.64466919e+00 -6.87720092e-01  6.36237463e-01\n",
            " -1.36369903e+00 -1.10520398e+00  1.17980034e+00 -2.51168853e+00\n",
            "  2.32879696e+00  1.08059474e+00  3.66742131e-01  5.51746192e-01\n",
            "  3.89871857e-01  2.36564395e-01  4.26092364e-01  6.83941566e-02\n",
            "  9.27389091e-01  3.63544804e-01  6.50899479e-02  1.65482204e+00\n",
            "  1.62064432e+00 -8.30159706e-01  1.51556408e+00 -1.87415037e+00\n",
            " -1.59239494e+00 -5.83302874e-01 -1.19258852e+00  1.29908942e+00\n",
            " -8.04793301e-01  4.13834949e-01 -1.70593472e-01 -2.07854696e-01\n",
            " -1.02043828e+00 -1.68957144e+00 -2.03488344e-01 -5.26048059e-01\n",
            "  1.36501036e+00 -2.51572967e-01  1.26694799e+00 -1.57927927e+00\n",
            "  1.25466601e+00  4.90142957e-01 -1.20044334e-01 -1.14358552e+00\n",
            "  5.52821012e-01 -1.67800639e+00  2.29764563e+00 -1.47846509e+00\n",
            "  7.56100916e-02 -1.46185628e+00  1.33093821e+00 -1.88672115e+00\n",
            " -8.89052520e-01 -1.67754182e+00  3.18852854e-01 -9.94648943e-02\n",
            "  2.53092136e+00 -4.50943662e-01 -2.45853158e-02  1.86651609e+00\n",
            "  2.02570772e+00 -2.48450404e+00 -3.10782221e-01 -1.33585008e+00\n",
            "  2.36217844e-01  5.70765975e-01 -8.90030951e-01  5.68313322e-01\n",
            " -1.21343998e+00  3.29087175e-01  2.98481078e-01  2.51589804e-01\n",
            "  8.51037598e-01 -2.61485093e+00  1.09044274e-01  5.02944262e-01\n",
            " -1.28924016e-01 -1.16349353e+00  9.39600414e-01 -3.87093730e-01\n",
            " -1.24405685e+00  4.82602221e-01 -8.18384542e-01  9.29867259e-01\n",
            "  2.82800518e-01  1.09382996e+00  2.59992687e+00  7.86788919e-01\n",
            "  1.26496447e+00  7.58979397e-01 -6.22792189e-01  3.72648012e-01\n",
            " -1.24024258e+00  1.02367812e+00  5.73020442e-01  4.62433435e-01\n",
            "  1.30957869e+00  1.01325980e+00 -1.05750179e+00 -1.01770784e+00\n",
            "  1.70909146e+00 -3.66254626e-01 -6.85398176e-01  4.78487294e-01\n",
            "  1.17971747e+00 -7.59170606e-01  7.29229996e-01 -1.61060576e+00\n",
            "  2.95731241e-01  9.22381600e-02  1.52757156e-01 -1.23891876e+00\n",
            "  1.91395244e+00  9.79709270e-01  4.07569558e-01 -1.14262550e+00\n",
            "  2.92348619e-02  5.04893998e-01  3.02826563e-01  5.70470262e-01\n",
            " -7.62698131e-01  6.27791719e-01 -1.15285770e+00  2.01812242e-01\n",
            "  3.60656753e-02  8.18847619e-02 -3.83274806e-01  3.55282635e-01\n",
            " -7.64113288e-01  8.25461592e-01 -7.34298847e-01 -4.08020029e-01\n",
            "  3.62564247e-01  4.16026622e-01 -3.77370442e-01  9.43005571e-01\n",
            " -8.32228526e-02 -2.09310765e+00 -1.43637643e+00 -5.17963457e-01\n",
            "  1.54175081e+00 -3.75190838e-01 -5.37193676e-01  6.44686236e-01\n",
            "  1.75294807e-01  8.81315766e-01  9.94969788e-01 -5.92337895e-01\n",
            "  1.84334947e+00 -7.87365736e-01  2.67515828e-01 -1.18772759e-01\n",
            " -2.24140774e-01  6.72560841e-01 -8.16397475e-01 -6.32126163e-01\n",
            " -1.04329387e+00  7.10294478e-01  7.25936352e-01 -2.57008422e-01\n",
            " -1.24715455e+00 -5.27819156e-01 -1.70507617e+00 -1.32324991e+00\n",
            " -1.54322870e+00 -4.09767679e-01  2.77113389e+00 -3.26049368e-01\n",
            "  3.83044935e-01 -9.65440139e-01 -8.01385191e-01  7.09622128e-02\n",
            "  1.43723633e+00 -1.16882497e+00 -1.66244326e-01 -4.76628115e-01\n",
            " -2.58936689e-01  5.23094680e-02  1.60822487e+00  8.15786753e-01\n",
            "  5.47360072e-01  7.56757866e-01  2.02495456e-01  1.25542879e-01\n",
            "  8.28086014e-01 -5.32124579e-01 -1.71612672e-01 -2.98104093e-01\n",
            " -2.16054364e-01  7.39822413e-01 -3.66937120e-01 -1.13981364e-01\n",
            " -3.21412889e-02  1.09800856e+00 -1.15477544e-01  2.57772825e+00\n",
            " -1.48099128e+00  2.39724044e-01  4.88149460e-01  2.18986262e-01\n",
            " -1.17401683e+00  5.20296092e-01  3.55515414e-01  7.09407064e-01\n",
            " -4.05766266e-01  1.47221042e+00  3.00781871e-02 -1.68027947e+00\n",
            "  5.17816281e-01 -2.19451772e-01  1.71652616e-02  4.20632638e-02\n",
            " -4.96520836e-01  3.67725905e-01 -1.49717847e+00 -2.24945931e-01\n",
            " -2.16152499e+00  1.06298760e+00 -3.22033979e-01 -6.82705849e-01\n",
            "  6.22451154e-01 -1.60706953e-01 -7.65008955e-01  8.16795519e-01\n",
            "  1.87317798e-01  1.02947518e+00 -2.61183772e-01  1.49915613e-02\n",
            " -1.02364175e+00  8.64771728e-03 -8.15161264e-01  3.15723619e-01\n",
            " -1.48742502e-01  1.05384255e-01 -1.72322003e-01 -4.95682465e-01\n",
            "  9.19630278e-02 -4.82255608e-01  1.63957652e+00 -1.98366000e-01\n",
            "  1.30746823e-01  8.00063267e-01  5.75315171e-01  1.10723692e+00\n",
            " -6.99079033e-01 -6.94799070e-01  1.01108312e+00  7.52527172e-01\n",
            "  5.76675926e-02 -1.22531515e+00 -4.99644303e-01  2.87780167e+00\n",
            " -2.42012037e+00  2.95331680e-01  6.50390355e-02 -8.16539413e-01\n",
            " -3.89560105e-01  3.48060478e-01 -9.21001767e-02  1.85349066e+00\n",
            "  1.27485272e-01  3.34536712e-01 -4.03352649e-03  1.64455535e-01\n",
            " -4.12058728e-01 -7.94014504e-01  8.65859616e-01 -1.69469472e-01\n",
            " -9.05743183e-01 -1.49883063e-01 -3.69546659e-02 -1.51731229e+00\n",
            " -1.61481487e-01  6.02021147e-01 -7.60650496e-03  2.39988340e-01\n",
            "  7.20375002e-01  9.06267540e-01 -1.35450177e+00 -1.32400754e-01\n",
            "  3.81309712e-01  3.20015313e-01  8.30246049e-01 -1.00361672e+00\n",
            "  2.05056819e+00  9.09317975e-01  1.34363657e+00  3.44674320e-01\n",
            "  5.99354609e-01 -1.06534082e+00  1.03615179e+00  1.20200572e+00\n",
            " -7.98330004e-01 -4.21067096e-01  1.34166826e-01 -1.10825186e+00\n",
            " -1.15265505e+00  4.36441102e-01 -4.05244428e-01  6.24123058e-02\n",
            "  4.23020283e-01 -5.69962904e-01 -1.77400375e-02  5.57238014e-01\n",
            "  5.96937921e-01  6.39546451e-01 -1.06665975e+00  1.21996314e+00\n",
            " -8.81457282e-01  6.86064651e-01 -2.87187545e-01  2.09811822e-01\n",
            " -5.66199801e-02  9.58143639e-01  1.15502092e+00 -7.96163495e-01\n",
            " -4.78192965e-01  2.23622000e+00  2.45162761e-01  6.38262937e-01\n",
            " -5.60883268e-01 -5.01939168e-01 -1.56932905e+00 -8.09561818e-01\n",
            " -3.01858519e-01 -1.49850502e+00  1.68684792e+00 -1.27450561e-01\n",
            " -1.76772358e-01 -3.08402619e-02 -1.36152077e+00 -4.01741780e-01\n",
            " -9.01880017e-01 -4.88655044e-01 -1.64276577e-02 -9.12740007e-01\n",
            " -9.23420961e-01  2.36464948e+00 -6.43486284e-01 -1.35025783e+00\n",
            "  5.16059609e-01 -1.73038729e-01 -5.62969092e-01  3.37456777e-01\n",
            "  6.45455161e-02  5.64877255e-02 -8.52385451e-01  6.17612607e-01\n",
            " -1.60202917e+00  1.32869906e+00 -6.66056894e-02  1.76975366e+00\n",
            " -3.25167833e-01  3.00975009e-01 -2.53149944e+00  2.06552604e-01\n",
            " -6.11273027e-01 -5.75155279e-01 -7.44146046e-01  1.22531650e+00\n",
            " -2.24513210e+00 -5.62196155e-03  1.55507983e+00  1.16808650e+00\n",
            " -7.79733459e-01 -8.30079746e-01  1.97930632e+00 -5.71108159e-02\n",
            " -1.50272984e-01 -4.13742498e-01  5.72918438e-02  2.15528352e+00\n",
            "  1.27073409e+00  8.44045610e-01 -1.75227703e+00  8.33243156e-01\n",
            "  2.07289354e+00 -1.26545205e+00 -1.16483088e+00 -1.80729886e+00\n",
            " -4.46890399e-02  7.19462963e-01 -5.79672004e-01  4.02732955e-01\n",
            "  1.47348630e-01 -1.18950664e+00 -3.17692090e-01 -1.04678890e+00\n",
            " -3.45765922e-01 -1.24677717e-01 -3.71292967e-01  6.18924575e-01\n",
            " -4.55737038e-01 -1.48525400e+00  9.86308580e-01  4.79779593e-01\n",
            " -2.38804677e-01 -4.92000050e-01 -6.83613421e-01  9.10093615e-01\n",
            "  1.17986139e+00 -1.68291209e-01 -1.91181888e+00 -3.39232688e-01\n",
            " -1.44492086e+00  3.45131082e-01  6.45500555e-01  2.51279897e-01\n",
            " -1.89512296e+00 -1.55228040e+00  2.01361970e+00 -1.48673782e+00\n",
            " -2.32372500e-01  2.99011452e-01  1.42127415e-01 -1.59892853e+00\n",
            " -9.86884000e-01  5.77275491e-01  2.57894547e+00 -1.25918873e+00\n",
            " -2.02158285e-01  3.08003383e-01 -8.33635097e-01 -1.04222562e-01\n",
            " -1.18627218e-02  4.01368730e-01 -4.32129344e-01 -7.66157581e-01\n",
            "  3.11053953e-02  1.10550443e+00  3.96992748e-01  1.89747927e-01\n",
            " -4.28206839e-01 -8.02238365e-01  7.73112330e-01  9.23570308e-02\n",
            " -1.67896548e+00  1.55177984e+00  5.16143616e-01  1.37271070e+00\n",
            "  7.48710498e-01  3.56457663e-01  1.91241379e+00  6.74899783e-01\n",
            "  1.29102376e-01 -2.53248827e-01 -5.81716790e-01 -1.33338153e+00\n",
            " -2.20203643e-01  2.12493841e+00 -9.90827628e-01  3.67226537e-01\n",
            " -1.50033972e-02  4.18855533e-01  3.33924283e-01  4.68938677e-01\n",
            "  6.63934788e-01  1.29182681e+00 -1.20567663e+00  7.30498049e-01\n",
            "  1.11938195e+00  1.11038754e-01  1.86642774e+00  8.62776846e-01\n",
            " -3.51663422e-01  3.62441395e-01 -1.74374395e-01 -1.05739354e+00\n",
            "  9.64176446e-01  1.24519573e-01  6.31860193e-01  3.98341100e-01\n",
            "  1.29777559e+00 -9.46263412e-01 -3.86068241e-01 -8.71382045e-01\n",
            " -5.18446935e-01 -1.34811904e-01  4.86458157e-01 -3.72108013e-01\n",
            "  1.29345136e+00 -7.28214880e-01 -3.68650919e-01 -9.69530657e-02\n",
            " -1.23188600e+00 -1.62608963e+00  8.26098111e-01  7.54593270e-01\n",
            " -1.27198790e+00 -1.41813453e+00 -6.81361779e-01  3.88325643e-01\n",
            " -4.05202381e-01 -1.24029919e+00 -3.01843167e-01 -1.18461321e+00\n",
            " -1.80541114e-01 -9.51523443e-03 -3.99312641e-01  1.75152061e+00\n",
            "  1.04470827e-01  1.21549718e+00  1.22844436e-01 -1.21315581e+00\n",
            " -6.43376427e-01 -5.87826443e-01 -4.03582075e-02 -2.27446822e-01\n",
            "  2.18347527e-01  1.76834271e+00  8.18939716e-01  1.40675124e+00\n",
            " -1.25298045e+00  7.06486927e-01 -1.10629129e+00  6.09632635e-01\n",
            " -4.92669523e-02  5.34462420e-01  1.21249893e+00 -1.96114031e-01\n",
            " -6.98623147e-01  3.68183126e-01  1.55687181e-01  5.38933840e-01\n",
            "  1.02960753e+00  5.53639247e-01 -7.91438465e-01 -8.08410416e-01\n",
            "  2.25725811e-01 -8.82715613e-01  3.40025596e-01  5.08764362e-01\n",
            "  1.03880837e+00  6.71340496e-01  5.50590417e-01  2.90379740e-01\n",
            "  4.97777831e-01 -8.76245358e-02  1.30392416e+00  8.43878818e-02\n",
            "  1.94724502e-01 -5.13404145e-01 -1.09350383e-01  5.37532769e-01\n",
            "  1.16343710e+00 -9.87567264e-01  1.49518848e+00  2.94231846e-01\n",
            " -8.66412269e-01  1.93692584e-01 -4.72356760e-01 -6.48215271e-01\n",
            " -4.18512120e-02  8.23188679e-01  1.34880344e+00 -5.98907775e-01\n",
            "  1.05372331e+00  2.66432773e+00  1.15619347e-01 -1.53676656e+00\n",
            "  1.61196039e+00  4.20976531e-01  1.60995634e+00 -4.00019927e-01\n",
            "  2.06873402e-01 -8.90300345e-01 -3.04586719e-01  6.07512899e-01\n",
            "  2.23787207e-02  1.83795676e+00 -3.74364372e-02 -3.55700715e-01\n",
            " -5.82149326e-01 -2.11539048e-01  1.44223475e+00 -2.07600944e-03\n",
            "  1.09409383e+00  1.30596668e+00  4.30769983e-01  6.11260480e-01\n",
            " -3.16816949e+00  1.30280030e+00 -1.37448812e+00 -8.97097784e-01\n",
            "  2.88776025e-01 -1.31797392e+00 -1.15287986e-01 -5.68738771e-01\n",
            "  4.14851252e-01 -2.50092132e-01  6.32511517e-01 -5.87294810e-01\n",
            "  6.09214889e-01 -1.27951580e+00  7.51063513e-01  2.38196446e+00\n",
            "  1.55245236e-01  1.26993924e+00 -3.06910543e-01  1.07851179e+00\n",
            "  8.62011647e-01 -2.62204269e-01 -7.15994306e-01 -5.02259789e-01\n",
            " -4.30556403e-01  2.86711446e-01  3.26703037e-01 -1.10525848e+00\n",
            " -6.50297971e-01 -6.06510641e-01 -1.34965899e+00  1.81944569e-01\n",
            "  7.76939497e-01 -6.94256542e-01  2.65117671e-01  3.91788330e-01\n",
            "  1.42111424e+00 -2.70452740e-01 -3.25462560e-02 -1.85788199e+00\n",
            "  6.32604856e-01 -1.24459320e+00 -3.84260432e-01 -4.38579892e-01\n",
            " -8.52335809e-01  4.24256310e-02 -1.49262237e-01 -1.87272030e-01\n",
            "  2.37777618e+00  1.09311292e+00 -1.64913007e+00 -1.71519138e+00\n",
            "  5.32106452e-02  1.24338137e+00 -9.10073721e-01 -2.02190103e-01\n",
            " -2.09322416e+00 -5.46029705e-01 -1.13717451e-01  1.52122146e+00\n",
            " -1.14025936e+00  8.19198113e-01  5.78687754e-01 -4.31427770e-01\n",
            " -3.75443231e-01  1.46573360e+00 -5.42989101e-01 -4.11935573e-01\n",
            "  2.30502558e+00  3.53360221e-01  8.96458795e-01 -1.59411736e+00\n",
            "  1.86311060e+00  1.55519521e+00  2.80703071e-01 -7.31970740e-01]\n",
            "The sample mean and standard devation are 0.034478 and 0.997238, respectively.\n"
          ]
        }
      ],
      "source": [
        "import numpy as np\n",
        "normal_array = np.random.randn(1000)\n",
        "print(normal_array)\n",
        "print(\"The sample mean and standard devation are %f and %f, respectively.\" %(np.mean(normal_array), np.std(normal_array)))"
      ]
    },
    {
      "cell_type": "markdown",
      "metadata": {},
      "source": [
        "Numpy supports a concept known as broadcasting, which dictates how arrays of different sizes are combined together. There are too many rules to list here, but importantly, multiplying an array by a number multiplies each element by the number. Adding a number adds the number to each element.\n",
        "This means that if you wanted the distribution $N(5, 7)$ you could do:"
      ]
    },
    {
      "cell_type": "code",
      "execution_count": 20,
      "metadata": {},
      "outputs": [
        {
          "name": "stdout",
          "output_type": "stream",
          "text": [
            "[1 3]\n",
            "[ 7 11]\n"
          ]
        },
        {
          "data": {
            "text/plain": [
              "(4.63750572141453, 6.594516729485535)"
            ]
          },
          "execution_count": 20,
          "metadata": {},
          "output_type": "execute_result"
        }
      ],
      "source": [
        "x=np.array([1,3])\n",
        "print(x)\n",
        "xx=5+2*x\n",
        "print(xx)\n",
        "np.std(xx)\n",
        "normal_5_7 = 5 + 7*normal_array\n",
        "\n",
        "np.mean(normal_5_7), np.std(normal_5_7)"
      ]
    },
    {
      "cell_type": "markdown",
      "metadata": {},
      "source": [
        "## Part 7: Text Analysis of Hamlet (try it at home)\n",
        "\n",
        "Below we'll walk you through an exercise analyzing the word distribution of the play *Hamlet* using what we learned in this lab.  \n",
        "\n",
        "First we need to read the file into Python.  If you haven't done so already, please download `hamlet.txt` from the github repo and save it in the `data` subfolder. (You could just clone and download a zip of the entire repository as well)."
      ]
    },
    {
      "cell_type": "markdown",
      "metadata": {},
      "source": [
        ">**EXERCISE**:  Read the [documentation](https://docs.python.org/3/) on reading and writing files.  Open and read in and save `hamlet.txt` as `hamlettext`.  Then close the file."
      ]
    },
    {
      "cell_type": "code",
      "execution_count": 76,
      "metadata": {},
      "outputs": [],
      "source": [
        "# your code here\n"
      ]
    },
    {
      "cell_type": "markdown",
      "metadata": {},
      "source": [
        ">**EXERCISE**:  Before moving on, let's make sure `hamlettext` actually contains the text of *Hamlet*.  First, what is the type of `hamlettext`?  What is its length?  Print the first 500 items of `hamlettext`."
      ]
    },
    {
      "cell_type": "code",
      "execution_count": 77,
      "metadata": {},
      "outputs": [],
      "source": [
        "# your code here\n"
      ]
    },
    {
      "cell_type": "markdown",
      "metadata": {},
      "source": [
        "Each item in `hamlettext` is a text character.  Let's see what we can learn about the distribution of words in the play.  To do this, you'll need to split the string `hamlettext` into a list of strings, where each element of the list is a word in the play.  Search the documentation, or refer back to the summary of string operations in the Strings section of this lab.\n",
        "\n",
        ">**EXERCISE**:  Create a list called `hamletwords` where the items of the `hamletwords` are the words of the play.  Confirm that `hamletwords` is a list, that each element of `hamletwords` is a string, and print the first 10 items in `hamletwords`.  Print \"There are $N$ total words in Hamlet,\" where $N$ is the total number of words in Hamlet.\n"
      ]
    },
    {
      "cell_type": "code",
      "execution_count": 11,
      "metadata": {},
      "outputs": [
        {
          "name": "stdout",
          "output_type": "stream",
          "text": [
            "there are1\n"
          ]
        }
      ],
      "source": [
        "pip "
      ]
    },
    {
      "cell_type": "markdown",
      "metadata": {},
      "source": [
        "The total number of words above considers \"The\" and \"the\" as two different words.  So if we're going to find the distribution of the words in the play, we need to first make all the words lower-case.  From the lower-case list of words, we then find the set of unique words.\n",
        "\n",
        ">**EXERCISE**: Using a *list comprehension*, create a `hamletwords_lc` which converts the items in `hamletwords` to lower-case.  You will likely want to search the documentation for the string method `lower`.  Then count the number of occurences of \"thou\", making use of the string method `count`. "
      ]
    },
    {
      "cell_type": "code",
      "execution_count": 79,
      "metadata": {},
      "outputs": [],
      "source": [
        "# your code here\n"
      ]
    },
    {
      "cell_type": "markdown",
      "metadata": {},
      "source": [
        "We need to find the unique set of words in `hamletwords_lc`.  \n",
        "\n",
        ">**EXERCISE**:  Use `set` to determine the set of unique words in `hamletwords_lc`. Then print \"There are $M$ unique words in Hamlet,\" where $M$ is the number of unique words.  As a sanity check, verify that $M < N$."
      ]
    },
    {
      "cell_type": "code",
      "execution_count": 80,
      "metadata": {},
      "outputs": [],
      "source": [
        "# your code here\n"
      ]
    },
    {
      "cell_type": "markdown",
      "metadata": {},
      "source": [
        "Next we want a dictionary with the number of occurrences of each unique word, with the unique words as dictionary keys.\n",
        "\n",
        ">**EXERCISE**:  Create this dictionary.  To do it you will use either a loop or a dictionary comprehension and the `count` method."
      ]
    },
    {
      "cell_type": "code",
      "execution_count": 81,
      "metadata": {
        "collapsed": true
      },
      "outputs": [],
      "source": [
        "# your code here\n"
      ]
    },
    {
      "cell_type": "markdown",
      "metadata": {},
      "source": [
        "Finally, we find the 100 most frequently occurring words using the built-in `sorted` function.\n",
        "\n",
        ">**EXERCISE**: *(Stretch Goal)* Search and read the documentation for the `sorted` function.  The documentation has a link to some examples, \"sorting HOW TO.\"  Check out the example under the heading \"Key Functions.\"  Then create a list called `top100words` with the 100 most frequently occurring words in Hamlet."
      ]
    },
    {
      "cell_type": "code",
      "execution_count": 82,
      "metadata": {
        "collapsed": true
      },
      "outputs": [],
      "source": [
        "# your code here\n"
      ]
    },
    {
      "cell_type": "markdown",
      "metadata": {},
      "source": [
        "Now we'll plot the top distribution of the top 10 words on this list.  To do this you'll need to import a plotting library called `matplotlib`.  The `pyplot` module in this library contains a set of functions that are especially useful for generating a wide range of plots.  Go back to the first cell in this notebook and type\n",
        "\n",
        "    ````\n",
        "    import matplotlib\n",
        "    import matplotlib.pyplot as plt\n",
        "    ````\n",
        "In this cell, also type\n",
        "\n",
        "    ````\n",
        "    %matplotlib inline\n",
        "    ````\n",
        "Be sure to evaluate the cell before continuing.  Below is the code to generate the bar chart."
      ]
    },
    {
      "cell_type": "code",
      "execution_count": 83,
      "metadata": {},
      "outputs": [],
      "source": [
        "%matplotlib inline\n",
        "import matplotlib.pyplot as plt\n",
        "topfreq = top100words[:10]\n",
        "pos = range(len(topfreq)) # get positions on graph\n",
        "plt.bar(pos, [e[1] for e in topfreq]); # get second members of tuples, plot against positions\n",
        "plt.xticks([e+0.4 for e in pos], [e[0] for e in topfreq]); # get labels as first members of tuples\n",
        "plt.ylabel('Frequency')"
      ]
    },
    {
      "cell_type": "markdown",
      "metadata": {},
      "source": [
        "This is a somewhat boring result because  we forgot to remove common words like \"the\" from the corpus.  That's a topic for a later date!"
      ]
    },
    {
      "cell_type": "markdown",
      "metadata": {
        "collapsed": true
      },
      "source": [
        "## Part 8:  References\n",
        "\n",
        "Congratulations!  You've completed lab 0.  You'll likely very comfortable with some parts of the lab, and less comfortable with other parts.  Below are a few tutorials and practice problems if you'd like to do more -- check them out.\n",
        "<ol >\n",
        "<li> Tutorial: https://realpython.com/files/python_cheat_sheet_v1.pdf </li>\n",
        "<li> Short practice problems with solutions: http://www.practicepython.org</li>\n",
        "<li> Jupyter notebooks (0, 1, and 2 are more relevant): https://github.com/jrjohansson/scientific-python-lectures </li>\n",
        "</ol>\n",
        " "
      ]
    }
  ],
  "metadata": {
    "kernelspec": {
      "display_name": "Python 3",
      "language": "python",
      "name": "python3"
    },
    "language_info": {
      "codemirror_mode": {
        "name": "ipython",
        "version": 3
      },
      "file_extension": ".py",
      "mimetype": "text/x-python",
      "name": "python",
      "nbconvert_exporter": "python",
      "pygments_lexer": "ipython3",
      "version": "3.12.1"
    }
  },
  "nbformat": 4,
  "nbformat_minor": 1
}
